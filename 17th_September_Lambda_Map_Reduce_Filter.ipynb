{
 "cells": [
  {
   "cell_type": "markdown",
   "metadata": {},
   "source": [
    "<h3>For Loop:-</h3>\n"
   ]
  },
  {
   "cell_type": "markdown",
   "metadata": {},
   "source": []
  },
  {
   "cell_type": "code",
   "execution_count": 2,
   "metadata": {},
   "outputs": [
    {
     "name": "stdout",
     "output_type": "stream",
     "text": [
      "1\n",
      "2\n",
      "3\n",
      "4\n",
      "5\n",
      "6\n",
      "7\n",
      "8\n",
      "9\n",
      "10\n"
     ]
    }
   ],
   "source": [
    "#Question 1\n",
    "for i in range(1,11):\n",
    "    print(i)"
   ]
  },
  {
   "cell_type": "code",
   "execution_count": 4,
   "metadata": {},
   "outputs": [
    {
     "name": "stdout",
     "output_type": "stream",
     "text": [
      "For loops iterate a set number of times through a sequence, like a list, while loops keep going as long as a condition is true.\n",
      " While loops are more flexible but generally slower than for loops.\n"
     ]
    }
   ],
   "source": [
    "#Question 2\n",
    "print(\"For loops iterate a set number of times through a sequence, like a list, while loops keep going as long as a condition is true.\\n While loops are more flexible but generally slower than for loops.\")"
   ]
  },
  {
   "cell_type": "code",
   "execution_count": 6,
   "metadata": {},
   "outputs": [
    {
     "name": "stdout",
     "output_type": "stream",
     "text": [
      "5050\n"
     ]
    }
   ],
   "source": [
    "#Question 3\n",
    "sum=0\n",
    "for i in range(1,101):\n",
    "    sum+=i\n",
    "print(sum)"
   ]
  },
  {
   "cell_type": "code",
   "execution_count": 11,
   "metadata": {},
   "outputs": [
    {
     "name": "stdout",
     "output_type": "stream",
     "text": [
      "To iterate through a list we use the code\n",
      "for i in list_name:\n",
      "    /*your code*/\n"
     ]
    }
   ],
   "source": [
    "#Question 4\n",
    "print(\"To iterate through a list we use the code\\nfor i in list_name:\\n    /*your code*/\")"
   ]
  },
  {
   "cell_type": "code",
   "execution_count": 14,
   "metadata": {},
   "outputs": [
    {
     "name": "stdout",
     "output_type": "stream",
     "text": [
      "40320\n"
     ]
    }
   ],
   "source": [
    "#Question 5\n",
    "l = [2,4,3,5,7,6,8]\n",
    "prod = 1\n",
    "for i in l:\n",
    "    prod*=i\n",
    "print(prod)"
   ]
  },
  {
   "cell_type": "code",
   "execution_count": 16,
   "metadata": {},
   "outputs": [
    {
     "name": "stdout",
     "output_type": "stream",
     "text": [
      "0\n",
      "2\n",
      "4\n",
      "6\n",
      "8\n",
      "10\n",
      "12\n",
      "14\n",
      "16\n",
      "18\n",
      "20\n"
     ]
    }
   ],
   "source": [
    "#Question 6\n",
    "for i in range(0,21):\n",
    "    if(i%2==0):\n",
    "        print(i)"
   ]
  },
  {
   "cell_type": "code",
   "execution_count": 24,
   "metadata": {},
   "outputs": [
    {
     "name": "stdout",
     "output_type": "stream",
     "text": [
      "3628800\n"
     ]
    }
   ],
   "source": [
    "#Question 7\n",
    "number =10\n",
    "def factorial(n):\n",
    "    fact=1\n",
    "    for i in range(1,n+1):\n",
    "        fact*=i\n",
    "    return fact\n",
    "print(factorial(10))\n"
   ]
  },
  {
   "cell_type": "code",
   "execution_count": 27,
   "metadata": {},
   "outputs": [
    {
     "name": "stdout",
     "output_type": "stream",
     "text": [
      "To iterate through characters in a string\n",
      "for i in string_name:\n",
      "    print(i)\n"
     ]
    }
   ],
   "source": [
    "#Question 8\n",
    "print(\"To iterate through characters in a string\\nfor i in string_name:\\n    print(i)\")"
   ]
  },
  {
   "cell_type": "code",
   "execution_count": 33,
   "metadata": {},
   "outputs": [
    {
     "name": "stdout",
     "output_type": "stream",
     "text": [
      "8\n"
     ]
    }
   ],
   "source": [
    "#Question 9\n",
    "l=[3,2,4,5,6,7,8]\n",
    "max=int(1e-100)\n",
    "for i in range(0,len(l)):\n",
    "    if(l[i]>max):\n",
    "        max = l[i]\n",
    "print(max)\n"
   ]
  },
  {
   "cell_type": "code",
   "execution_count": 1,
   "metadata": {},
   "outputs": [
    {
     "name": "stdout",
     "output_type": "stream",
     "text": [
      "0\n",
      "1\n",
      "1\n",
      "2\n",
      "3\n",
      "5\n",
      "8\n",
      "13\n",
      "21\n",
      "34\n"
     ]
    }
   ],
   "source": [
    "#Question 10\n",
    "limit = 10\n",
    "a, b = 0, 1\n",
    "print(a)\n",
    "print(b)\n",
    "for i in range(2, limit):\n",
    "  c = a + b\n",
    "  print(c)\n",
    "  a, b = b, c\n"
   ]
  },
  {
   "cell_type": "code",
   "execution_count": 2,
   "metadata": {},
   "outputs": [
    {
     "data": {
      "text/plain": [
       "4"
      ]
     },
     "execution_count": 2,
     "metadata": {},
     "output_type": "execute_result"
    }
   ],
   "source": [
    "#Question 11\n",
    "vowel = \"aeiouAEIOU\"\n",
    "word = \"pwskillsiscool\"\n",
    "count = 0\n",
    "for i in word:\n",
    "    if i in vowel:\n",
    "        count+=1\n",
    "count"
   ]
  },
  {
   "cell_type": "code",
   "execution_count": 3,
   "metadata": {},
   "outputs": [
    {
     "name": "stdout",
     "output_type": "stream",
     "text": [
      "7 x 0 = 0\n",
      "7 x 1 = 7\n",
      "7 x 2 = 14\n",
      "7 x 3 = 21\n",
      "7 x 4 = 28\n",
      "7 x 5 = 35\n",
      "7 x 6 = 42\n",
      "7 x 7 = 49\n",
      "7 x 8 = 56\n",
      "7 x 9 = 63\n",
      "7 x 10 = 70\n",
      "7 x 11 = 77\n",
      "7 x 12 = 84\n"
     ]
    }
   ],
   "source": [
    "#Question 12\n",
    "given_number = 7\n",
    "for i in range(0,13):\n",
    "    print(f\"{given_number} x {i} = {given_number*i}\")"
   ]
  },
  {
   "cell_type": "code",
   "execution_count": 11,
   "metadata": {},
   "outputs": [
    {
     "name": "stdout",
     "output_type": "stream",
     "text": [
      "9\n",
      "8\n",
      "7\n",
      "6\n",
      "5\n",
      "4\n",
      "3\n",
      "2\n",
      "1\n"
     ]
    }
   ],
   "source": [
    "#Question 13\n",
    "l = [1,2,3,4,5,6,7,8,9]\n",
    "\n",
    "for i in range(0,len(l)//2):\n",
    "    l[i],l[len(l)-i-1] = l[len(l)-i-1],l[i]\n",
    "for i in range(len(l)):\n",
    "    print(l[i])\n",
    "\n"
   ]
  },
  {
   "cell_type": "code",
   "execution_count": 13,
   "metadata": {},
   "outputs": [
    {
     "name": "stdout",
     "output_type": "stream",
     "text": [
      "3\n",
      "5\n",
      "7\n"
     ]
    }
   ],
   "source": [
    "#Question 14\n",
    "l = [2,3,5,7,11]\n",
    "l1 = [1,3,5,7,9]\n",
    "for i in l:\n",
    "    if i in l1:\n",
    "        print(i)\n",
    "\n"
   ]
  },
  {
   "cell_type": "code",
   "execution_count": 15,
   "metadata": {},
   "outputs": [
    {
     "name": "stdout",
     "output_type": "stream",
     "text": [
      "name:James\n",
      "age:19\n",
      "Location:Syldavia\n"
     ]
    }
   ],
   "source": [
    "#Question 15\n",
    "my_dict = {\n",
    "    \"name\":\"James\",\n",
    "    \"age\":19,\n",
    "    \"Location\":\"Syldavia\"\n",
    "}\n",
    "for keys,values in my_dict.items():\n",
    "    print(f\"{keys}:{values}\")"
   ]
  },
  {
   "cell_type": "code",
   "execution_count": 16,
   "metadata": {},
   "outputs": [
    {
     "name": "stdout",
     "output_type": "stream",
     "text": [
      "20\n"
     ]
    }
   ],
   "source": [
    "#Question 16\n",
    "a=20\n",
    "b=30\n",
    "smaller = min(a, b)\n",
    "for i in range(1, smaller + 1):\n",
    "    if a % i == 0 and b % i == 0:\n",
    "        gcd_value = i\n",
    "print(i)\n",
    "    "
   ]
  },
  {
   "cell_type": "code",
   "execution_count": 18,
   "metadata": {},
   "outputs": [
    {
     "name": "stdout",
     "output_type": "stream",
     "text": [
      "Palindrome\n"
     ]
    }
   ],
   "source": [
    "#Question 17\n",
    "s= \"racecar\"\n",
    "if(s[::-1]==s):\n",
    "    print(\"Palindrome\")\n",
    "else:\n",
    "    print(\"Not a Palindrome\")\n"
   ]
  },
  {
   "cell_type": "code",
   "execution_count": 20,
   "metadata": {},
   "outputs": [
    {
     "data": {
      "text/plain": [
       "[1, 2, 3, 4, 5]"
      ]
     },
     "execution_count": 20,
     "metadata": {},
     "output_type": "execute_result"
    }
   ],
   "source": [
    "#Question 18\n",
    "l=[1,2,3,3,4,4,5,5]\n",
    "emp_l = []\n",
    "for i in l:\n",
    "    if i not in emp_l:\n",
    "        emp_l.append(i)\n",
    "emp_l"
   ]
  },
  {
   "cell_type": "code",
   "execution_count": 21,
   "metadata": {},
   "outputs": [
    {
     "name": "stdout",
     "output_type": "stream",
     "text": [
      "16\n"
     ]
    }
   ],
   "source": [
    "#Question 19\n",
    "my_string = \"meinnameistjohan\"\n",
    "count = 0\n",
    "for i in my_string:\n",
    "    count+=1\n",
    "print(count)"
   ]
  },
  {
   "cell_type": "code",
   "execution_count": 2,
   "metadata": {},
   "outputs": [
    {
     "data": {
      "text/plain": [
       "625"
      ]
     },
     "execution_count": 2,
     "metadata": {},
     "output_type": "execute_result"
    }
   ],
   "source": [
    "#Question 20\n",
    "sum = 0\n",
    "for i in range(1,51):\n",
    "    if(i%2!=0):\n",
    "        sum+=i\n",
    "sum"
   ]
  },
  {
   "cell_type": "code",
   "execution_count": null,
   "metadata": {},
   "outputs": [],
   "source": [
    "#Question 21\n",
    "y=2000\n",
    "if((y % 400 == 0) or(y % 100 != 0) and (y % 4 == 0)): \n",
    "    print(\"Leap year\")\n",
    "else:\n",
    "    print(\"Not a leap year\")\n",
    "    "
   ]
  },
  {
   "cell_type": "code",
   "execution_count": 9,
   "metadata": {},
   "outputs": [
    {
     "name": "stdout",
     "output_type": "stream",
     "text": [
      "The square root is approximately 11\n"
     ]
    }
   ],
   "source": [
    "#Question 22\n",
    "number = 122\n",
    "guess = 0\n",
    "for i in range(1, number + 1):  # Iterate through numbers from 1 to number\n",
    "    if i * i <= number:\n",
    "      guess = i\n",
    "    else:\n",
    "      break  # Stop when the square is greater than the number\n",
    "print(f\"The square root is approximately {guess}\")"
   ]
  },
  {
   "cell_type": "code",
   "execution_count": 12,
   "metadata": {},
   "outputs": [
    {
     "data": {
      "text/plain": [
       "12"
      ]
     },
     "execution_count": 12,
     "metadata": {},
     "output_type": "execute_result"
    }
   ],
   "source": [
    "#Question 23\n",
    "num1 = 4\n",
    "num2 = 6\n",
    "if (num1>num2):\n",
    "    greater = num1\n",
    "else:\n",
    "    greater = num2\n",
    "while True:\n",
    "    if(greater % num1 ==0 and greater % num2==0):\n",
    "        lcm = greater\n",
    "        break\n",
    "    greater+=1\n",
    "lcm\n"
   ]
  },
  {
   "cell_type": "markdown",
   "metadata": {},
   "source": [
    "<h3>If else</h3>"
   ]
  },
  {
   "cell_type": "code",
   "execution_count": 13,
   "metadata": {},
   "outputs": [
    {
     "name": "stdout",
     "output_type": "stream",
     "text": [
      "Positive\n"
     ]
    }
   ],
   "source": [
    "#Question 1\n",
    "number = 12\n",
    "if(number>0):\n",
    "    print(\"Positive\")\n",
    "elif(number<0):\n",
    "    print(\"Negative\")\n",
    "else:\n",
    "    print(\"Zero\")\n",
    "    "
   ]
  },
  {
   "cell_type": "code",
   "execution_count": 14,
   "metadata": {},
   "outputs": [
    {
     "name": "stdout",
     "output_type": "stream",
     "text": [
      "Even number\n"
     ]
    }
   ],
   "source": [
    "#Question 2\n",
    "test_num = 12\n",
    "if(test_num%2==0):\n",
    "    print(\"Even number\")\n",
    "else:\n",
    "    print(\"Odd Number\")\n",
    "    "
   ]
  },
  {
   "cell_type": "code",
   "execution_count": 27,
   "metadata": {},
   "outputs": [
    {
     "name": "stdout",
     "output_type": "stream",
     "text": [
      "Nested if-else statements are used to write more complex logic\n",
      "by writing an if-else statement inside another if-else block\n",
      "For Example\n",
      "x=6\n",
      "if x<4:\n",
      "   print(\"A\")\n",
      "else:\n",
      "    if x==6:\n",
      "        print(\"B\")\n",
      "    else:\n",
      "        print(\"C\")\n"
     ]
    }
   ],
   "source": [
    "#Question 3\n",
    "print(\"Nested if-else statements are used to write more complex logic\\nby writing an if-else statement inside another if-else block\\nFor Example\\nx=6\\nif x<4:\\n   print(\\\"A\\\")\\nelse:\\n    if x==6:\\n        print(\\\"B\\\")\\n    else:\\n        print(\\\"C\\\")\")"
   ]
  },
  {
   "cell_type": "code",
   "execution_count": 28,
   "metadata": {},
   "outputs": [
    {
     "name": "stdout",
     "output_type": "stream",
     "text": [
      "3\n"
     ]
    }
   ],
   "source": [
    "#Question 4\n",
    "a,b,c,max=1,2,3,0\n",
    "if(a>b and a>c):\n",
    "    print(a)\n",
    "elif(b>a and b>c):\n",
    "    print(b)\n",
    "else:\n",
    "    print(c)\n",
    "\n"
   ]
  },
  {
   "cell_type": "code",
   "execution_count": 29,
   "metadata": {},
   "outputs": [
    {
     "name": "stdout",
     "output_type": "stream",
     "text": [
      "100\n"
     ]
    }
   ],
   "source": [
    "#Question 5\n",
    "num = -100\n",
    "if(num>0):\n",
    "    print(num)\n",
    "elif(num<0):\n",
    "    print(-1*num)\n",
    "else:\n",
    "    print(0)"
   ]
  },
  {
   "cell_type": "code",
   "execution_count": 31,
   "metadata": {},
   "outputs": [
    {
     "name": "stdout",
     "output_type": "stream",
     "text": [
      "Is a consonant\n"
     ]
    }
   ],
   "source": [
    "#Question 6\n",
    "vowel = \"aeiou\"\n",
    "character =\"y\"\n",
    "if character.lower() in vowel:\n",
    "    print(\"Is a vowel\")\n",
    "else:\n",
    "    print(\"Is a consonant\")"
   ]
  },
  {
   "cell_type": "code",
   "execution_count": 33,
   "metadata": {},
   "outputs": [
    {
     "name": "stdout",
     "output_type": "stream",
     "text": [
      "Eligible for voting\n"
     ]
    }
   ],
   "source": [
    "#Question 7\n",
    "age = 19\n",
    "if(age>=18):\n",
    "    print(\"Eligible for voting\")\n",
    "else:\n",
    "    print(\"Not eligible for voting\")"
   ]
  },
  {
   "cell_type": "code",
   "execution_count": 50,
   "metadata": {},
   "outputs": [
    {
     "name": "stdout",
     "output_type": "stream",
     "text": [
      "7500.0\n"
     ]
    }
   ],
   "source": [
    "#Question 8\n",
    "amount_in_kg  =1500\n",
    "if amount_in_kg<=100:\n",
    "    #10 is the unit price\n",
    "    discount = 0.1\n",
    "    new_price = 10*amount_in_kg - (0.1*10*amount_in_kg)\n",
    "    print(new_price)\n",
    "elif(amount_in_kg<=500):\n",
    "    discount = 0.2\n",
    "    new_price = 10*amount_in_kg - (discount*10*amount_in_kg)\n",
    "    print(new_price)\n",
    "elif(amount_in_kg<=1000):\n",
    "    discount = 0.4\n",
    "    new_price = 10*amount_in_kg - (discount*10*amount_in_kg)\n",
    "    print(new_price)\n",
    "else:\n",
    "    discount = 0.5\n",
    "    new_price = 10*amount_in_kg - (discount*10*amount_in_kg)\n",
    "    print(new_price)"
   ]
  },
  {
   "cell_type": "code",
   "execution_count": 37,
   "metadata": {},
   "outputs": [
    {
     "name": "stdout",
     "output_type": "stream",
     "text": [
      "The number is not in bounds\n"
     ]
    }
   ],
   "source": [
    "#Question 9\n",
    "lower_bound = 100\n",
    "upper_bound = 200\n",
    "number = 149\n",
    "if(upper_bound<=number<=lower_bound):\n",
    "    print(\"The number is in bounds\")\n",
    "else:\n",
    "    print(\"The number is not in bounds\")\n"
   ]
  },
  {
   "cell_type": "code",
   "execution_count": 38,
   "metadata": {},
   "outputs": [
    {
     "name": "stdout",
     "output_type": "stream",
     "text": [
      "C\n"
     ]
    }
   ],
   "source": [
    "#Question 10\n",
    "mark  =76\n",
    "if mark>=90:\n",
    "    print(\"A\")\n",
    "elif(mark>=80):\n",
    "    print(\"B\")\n",
    "elif(mark>=70):\n",
    "    print(\"C\")\n",
    "elif(50>=mark>=60):\n",
    "    print(\"D\")\n",
    "else:\n",
    "    print(\"F\")"
   ]
  },
  {
   "cell_type": "code",
   "execution_count": 39,
   "metadata": {},
   "outputs": [
    {
     "name": "stdout",
     "output_type": "stream",
     "text": [
      "Not an empty string\n"
     ]
    }
   ],
   "source": [
    "#Question 11\n",
    "word = \"asfg\"\n",
    "if word ==\"\":\n",
    "    print(\"Empty String\")\n",
    "else:\n",
    "    print(\"Not an empty string\")\n"
   ]
  },
  {
   "cell_type": "code",
   "execution_count": 40,
   "metadata": {},
   "outputs": [
    {
     "name": "stdout",
     "output_type": "stream",
     "text": [
      "Scalene Traingle\n"
     ]
    }
   ],
   "source": [
    "#Question 12\n",
    "side1 = 6\n",
    "side2 = 8\n",
    "side3 = 10\n",
    "if(side1==side2==side3):\n",
    "    print(\"Equilateral Traingle\")\n",
    "elif(side1==side2 or side2== side3 or side1==side3):\n",
    "    print(\"Isosceles Triangle\")\n",
    "else:\n",
    "    print(\"Scalene Traingle\")\n",
    "    "
   ]
  },
  {
   "cell_type": "code",
   "execution_count": 41,
   "metadata": {},
   "outputs": [
    {
     "name": "stdout",
     "output_type": "stream",
     "text": [
      "Tuesday\n"
     ]
    }
   ],
   "source": [
    "#Question 13\n",
    "user_number = 2\n",
    "if(user_number==1):\n",
    "    print(\"Monday\")\n",
    "elif(user_number==2):\n",
    "    print(\"Tuesday\")\n",
    "elif(user_number==3):\n",
    "    print(\"Wednesday\")\n",
    "elif(user_number==4):\n",
    "    print(\"Thursday\")\n",
    "elif(user_number==5):\n",
    "    print(\"Friday\")\n",
    "elif(user_number==6):\n",
    "    print(\"Saturday\")\n",
    "else:\n",
    "    print(\"Sunday\")"
   ]
  },
  {
   "cell_type": "code",
   "execution_count": 43,
   "metadata": {},
   "outputs": [
    {
     "name": "stdout",
     "output_type": "stream",
     "text": [
      "Is a leap year\n"
     ]
    }
   ],
   "source": [
    "#Question 14\n",
    "def is_leap(y):\n",
    "    if((y % 400 == 0) or(y % 100 != 0) and (y % 4 == 0)): \n",
    "        return True\n",
    "    else:\n",
    "        return False\n",
    "year=2042\n",
    "if(is_leap(year)):\n",
    "    print(\"Is a leap year\")\n",
    "else:\n",
    "    print(\"Is not a leap year\")     \n"
   ]
  },
  {
   "cell_type": "code",
   "execution_count": 49,
   "metadata": {},
   "outputs": [
    {
     "name": "stdout",
     "output_type": "stream",
     "text": [
      "The assert statement in Python lets you add checks within if-else \n",
      "blocks to verify assumptions about your code's state. Here's an example:\n",
      "\n",
      "\n",
      "def is_even(number):\n",
      "  assert number % 2 == 0, \"Number must be even\"\n",
      "  return number % 2 == 0\n",
      "\n",
      "try:\n",
      "  print(is_even(4))  # This will print True\n",
      "  print(is_even(5))  # This will raise an AssertionError\n",
      "except AssertionError as e:\n",
      "  print(e)\n",
      "\n"
     ]
    }
   ],
   "source": [
    "#Question 15\n",
    "print(\"The assert statement in Python lets you add checks within if-else \\nblocks to verify assumptions about your code's state. Here's an example:\")\n",
    "print(\"\"\"\n",
    "\n",
    "def is_even(number):\n",
    "  assert number % 2 == 0, \"Number must be even\"\n",
    "  return number % 2 == 0\n",
    "try:\n",
    "  print(is_even(4))  # This will print True\n",
    "  print(is_even(5))  # This will raise an AssertionError\n",
    "except AssertionError as e:\n",
    "  print(e)\n",
    "\"\"\")"
   ]
  },
  {
   "cell_type": "code",
   "execution_count": 4,
   "metadata": {},
   "outputs": [
    {
     "name": "stdout",
     "output_type": "stream",
     "text": [
      "You are not eligible for a senior citizen discount.\n"
     ]
    }
   ],
   "source": [
    "#Question 16\n",
    "age = 56\n",
    "senior_discount_age = 60\n",
    "if age >= senior_discount_age:\n",
    "  print(\"You are eligible for a senior citizen discount!\")\n",
    "else:\n",
    "  print(\"You are not eligible for a senior citizen discount.\")"
   ]
  },
  {
   "cell_type": "code",
   "execution_count": 5,
   "metadata": {},
   "outputs": [
    {
     "name": "stdout",
     "output_type": "stream",
     "text": [
      "It is lower case\n"
     ]
    }
   ],
   "source": [
    "#Question 17\n",
    "a_single_char = \"a\"\n",
    "if(a_single_char.islower()):\n",
    "    print(\"It is lower case\")\n",
    "elif(a_single_char.isupper()):\n",
    "    print(\"It is uppercase\")\n",
    "else:\n",
    "    print(\"Neither\")"
   ]
  },
  {
   "cell_type": "code",
   "execution_count": 7,
   "metadata": {},
   "outputs": [
    {
     "name": "stdout",
     "output_type": "stream",
     "text": [
      "-3.0   2.0\n"
     ]
    }
   ],
   "source": [
    "#Question 18\n",
    "a=-1\n",
    "b=-1\n",
    "c=6\n",
    "discriminant = b**2 - 4 * a * c\n",
    "if discriminant > 0:\n",
    "    # Two distinct real roots\n",
    "    root1 = (-b + (discriminant**0.5)) / (2 * a)\n",
    "    root2 = (-b - (discriminant**0.5)) / (2 * a)\n",
    "    print(root1 , \" \",root2)\n",
    "elif discriminant == 0:\n",
    "    # Two equal real roots\n",
    "    root = -b / (2 * a)\n",
    "    print(root)  # Duplicate the root for equal case\n",
    "else:\n",
    "    print(\"No real roots\")\n"
   ]
  },
  {
   "cell_type": "code",
   "execution_count": 10,
   "metadata": {},
   "outputs": [
    {
     "name": "stdout",
     "output_type": "stream",
     "text": [
      "Not a century year\n"
     ]
    }
   ],
   "source": [
    "#Question 19\n",
    "year = 2001\n",
    "if year%100==0:\n",
    "    if year%400==0:\n",
    "        print(\"It is a century year\")\n",
    "else:\n",
    "    print(\"Not a century year\")"
   ]
  },
  {
   "cell_type": "code",
   "execution_count": 19,
   "metadata": {},
   "outputs": [
    {
     "name": "stdout",
     "output_type": "stream",
     "text": [
      "Not a square number\n"
     ]
    }
   ],
   "source": [
    "#Question 20\n",
    "number = 26\n",
    "for i in range(1,number):\n",
    "    if(i*i==number):\n",
    "        sqrt_num = i\n",
    "        print(\"Perfect square number\")\n",
    "        break\n",
    "else:\n",
    "    print(\"Not a square number\")\n",
    "        "
   ]
  },
  {
   "cell_type": "code",
   "execution_count": 22,
   "metadata": {},
   "outputs": [
    {
     "name": "stdout",
     "output_type": "stream",
     "text": [
      "The continue and break statements are used to control the flow within loops in Python.  \n",
      "continue skips the remaining code in the current iteration of the loop and moves on to the next iteration. \n",
      "break terminates the entire loop completely, exiting the loop even if there are more iterations remaining.\n"
     ]
    }
   ],
   "source": [
    "#Question 21\n",
    "print(\"The continue and break statements are used to control the flow within loops in Python.  \\ncontinue skips the remaining code in the current iteration of the loop and moves on to the next iteration. \\nbreak stops the entire loop completely even if there are more iterations left.\")"
   ]
  },
  {
   "cell_type": "code",
   "execution_count": 23,
   "metadata": {},
   "outputs": [
    {
     "name": "stdout",
     "output_type": "stream",
     "text": [
      "Overweight\n"
     ]
    }
   ],
   "source": [
    "#Question 22\n",
    "weight = 80\n",
    "height=1.76\n",
    "bmi = weight / (height * height)\n",
    "if bmi < 18.5:\n",
    "  print(\"Underweight\")\n",
    "elif bmi < 25:\n",
    "  print(\"Normal weight\")\n",
    "else:\n",
    "  print(\"Overweight\")"
   ]
  },
  {
   "cell_type": "code",
   "execution_count": 25,
   "metadata": {},
   "outputs": [
    {
     "name": "stdout",
     "output_type": "stream",
     "text": [
      "You cannot directly combine with if-else with filter. \n",
      "But you can apply filter first, then you can implement if-else\n"
     ]
    }
   ],
   "source": [
    "#Question 23\n",
    "print(\"You cannot directly combine with if-else with filter. \\nBut you can apply filter first, then you can implement if-else\")"
   ]
  },
  {
   "cell_type": "code",
   "execution_count": 34,
   "metadata": {},
   "outputs": [
    {
     "name": "stdout",
     "output_type": "stream",
     "text": [
      "A prime number\n"
     ]
    }
   ],
   "source": [
    "#Question 24\n",
    "number = 11\n",
    "for i in range(2,(int(number**0.5))+1):\n",
    "    if(number%i==0):\n",
    "        print(\"Not a prime number\")\n",
    "        break\n",
    "else:\n",
    "    print(\"A prime number\")"
   ]
  },
  {
   "cell_type": "markdown",
   "metadata": {},
   "source": [
    "<h3>Map</h3>"
   ]
  },
  {
   "cell_type": "code",
   "execution_count": 36,
   "metadata": {},
   "outputs": [
    {
     "name": "stdout",
     "output_type": "stream",
     "text": [
      "Map is a function that takes a function and an iterable as arguments \n",
      "and applies the function to every element in the iterable.\n",
      "\n",
      "For Example:\n",
      "      \n",
      "l=[1,2,3,4]\n",
      "def add_one(number):\n",
      "      return number+1\n",
      "map(add_one,l)\n",
      "      \n",
      ">>[2,3,4,5]\n",
      "        \n",
      "\n",
      "\n"
     ]
    }
   ],
   "source": [
    "#Question 1\n",
    "print(\"Map is a function that takes a function and an iterable as arguments \\nand applies the function to every element in the iterable.\")\n",
    "print(\"\"\"\n",
    "For Example:\n",
    "      \n",
    "l=[1,2,3,4]\n",
    "def add_one(number):\n",
    "      return number+1\n",
    "map(add_one,l)\n",
    "      \n",
    ">>[2,3,4,5]\n",
    "        \n",
    "\n",
    "\"\"\")"
   ]
  },
  {
   "cell_type": "code",
   "execution_count": 41,
   "metadata": {},
   "outputs": [
    {
     "data": {
      "text/plain": [
       "(1, 4, 9, 16, 25, 36, 49)"
      ]
     },
     "execution_count": 41,
     "metadata": {},
     "output_type": "execute_result"
    }
   ],
   "source": [
    "#Question 2\n",
    "def square(num):\n",
    "    return num*num\n",
    "l = [1,2,3,4,5,6,7]\n",
    "updated_list = list(map(square,l))\n",
    "updated_list"
   ]
  },
  {
   "cell_type": "code",
   "execution_count": 48,
   "metadata": {},
   "outputs": [
    {
     "name": "stdout",
     "output_type": "stream",
     "text": [
      "Maps and list comprehension are both good for small iterables. \n",
      "But If you have a large iterables, it is recommended to use map() since it is more memory efficient.\n",
      "Also Map return an iterable that needs to be converted to a list but List comprehension returns a list\n"
     ]
    }
   ],
   "source": [
    "#Question 3\n",
    "print(\"Maps and list comprehension are both good for small iterables. \\nBut If you have a large iterables, it is recommended to use map() since it is more memory efficient.\\nAlso Map return an iterable that needs to be converted to a list but List comprehension returns a list\")"
   ]
  },
  {
   "cell_type": "code",
   "execution_count": 50,
   "metadata": {},
   "outputs": [
    {
     "data": {
      "text/plain": [
       "['JASON', 'WOODS', 'MASON', 'REZNOV']"
      ]
     },
     "execution_count": 50,
     "metadata": {},
     "output_type": "execute_result"
    }
   ],
   "source": [
    "#Question 4\n",
    "def to_upper(character):\n",
    "    return character.upper()\n",
    "l=[\"jason\",\"woods\",\"mason\",\"reznov\"]\n",
    "new_list = list(map(to_upper,l))\n",
    "new_list"
   ]
  },
  {
   "cell_type": "code",
   "execution_count": 53,
   "metadata": {},
   "outputs": [
    {
     "data": {
      "text/plain": [
       "[7, 9, 8, 7]"
      ]
     },
     "execution_count": 53,
     "metadata": {},
     "output_type": "execute_result"
    }
   ],
   "source": [
    "#Question 5\n",
    "def length_of_word(word):\n",
    "    count = 0\n",
    "    for i in word:\n",
    "        count+=1\n",
    "    return count\n",
    "l = [\"Solomon\",\"Blackburn\",\"Matkovic\",\"Dimitri\"]\n",
    "new_list = list(map(length_of_word, l))\n",
    "new_list"
   ]
  },
  {
   "cell_type": "code",
   "execution_count": 1,
   "metadata": {},
   "outputs": [
    {
     "name": "stdout",
     "output_type": "stream",
     "text": [
      "We can apply map to multiple lists with the syntax \n",
      "var_name = list(map(custom_function,iterable1,iterable2))\n"
     ]
    }
   ],
   "source": [
    "#Question 6\n",
    "print(\"We can apply map to multiple lists with the syntax \\nvar_name = list(map(custom_function,iterable1,iterable2))\")"
   ]
  },
  {
   "cell_type": "code",
   "execution_count": 2,
   "metadata": {},
   "outputs": [
    {
     "data": {
      "text/plain": [
       "[50.0, 68.0, 86.0]"
      ]
     },
     "execution_count": 2,
     "metadata": {},
     "output_type": "execute_result"
    }
   ],
   "source": [
    "#Question 7\n",
    "def celsius_to_fahrenheit(celsius):\n",
    "    return (celsius * 1.8) + 32\n",
    "\n",
    "temperatures_c = [10, 20, 30]\n",
    "temperatures_f= list(map(celsius_to_fahrenheit, temperatures_c))\n",
    "\n",
    "temperatures_f"
   ]
  },
  {
   "cell_type": "code",
   "execution_count": 6,
   "metadata": {},
   "outputs": [
    {
     "data": {
      "text/plain": [
       "[3.14, 2.71, 0.565]"
      ]
     },
     "execution_count": 6,
     "metadata": {},
     "output_type": "execute_result"
    }
   ],
   "source": [
    "#Question 8\n",
    "def round_to_nearest_int(number):\n",
    "    return int(number)\n",
    "\n",
    "float_nums = [3.14, 2.71, 0.565]\n",
    "rounded_integers = list(map(round_to_nearest_int, float_nums))\n",
    "float_nums"
   ]
  },
  {
   "cell_type": "markdown",
   "metadata": {},
   "source": [
    "<h3>Reduce</h3>"
   ]
  },
  {
   "cell_type": "code",
   "execution_count": 4,
   "metadata": {},
   "outputs": [
    {
     "name": "stdout",
     "output_type": "stream",
     "text": [
      "The reduce() function in Python is a built-in function found in the functools module\n",
      "that applies a function cumulatively to the items of an iterable, reducing it to a single value.\n",
      "\n",
      "from functools import reduce\n",
      "\n",
      "numbers = [1, 2, 3, 4]\n",
      "def add(x, y):\n",
      "  return x + y\n",
      "sum_of_numbers = reduce(add, numbers)\n",
      "\n",
      "print(sum_of_numbers)  \n",
      "\n",
      ">>10\n",
      "\n"
     ]
    }
   ],
   "source": [
    "#Question 1\n",
    "print(\"The reduce() function in Python is a built-in function found in the functools module\\nthat applies a function cumulatively to the items of an iterable, reducing it to a single value.\")\n",
    "print(\"\"\"\n",
    "from functools import reduce\n",
    "\n",
    "numbers = [1, 2, 3, 4]\n",
    "def add(x, y):\n",
    "  return x + y\n",
    "sum_of_numbers = reduce(add, numbers)\n",
    "\n",
    "print(sum_of_numbers)  \n",
    "\n",
    ">>10\n",
    "\"\"\")"
   ]
  },
  {
   "cell_type": "code",
   "execution_count": 6,
   "metadata": {},
   "outputs": [
    {
     "data": {
      "text/plain": [
       "2700"
      ]
     },
     "execution_count": 6,
     "metadata": {},
     "output_type": "execute_result"
    }
   ],
   "source": [
    "#Question 2\n",
    "from functools import reduce\n",
    "l = [5,4,3,5,1,9]\n",
    "prod = reduce(lambda a,b:a*b, l)\n",
    "prod"
   ]
  },
  {
   "cell_type": "code",
   "execution_count": 8,
   "metadata": {},
   "outputs": [
    {
     "data": {
      "text/plain": [
       "9"
      ]
     },
     "execution_count": 8,
     "metadata": {},
     "output_type": "execute_result"
    }
   ],
   "source": [
    "#Question 3\n",
    "from functools import reduce\n",
    "l=[3,2,1,4,5,6,4,7,9]\n",
    "maxi_ele = reduce(lambda a,b:max(a,b),l)\n",
    "maxi_ele"
   ]
  },
  {
   "cell_type": "code",
   "execution_count": 11,
   "metadata": {},
   "outputs": [
    {
     "data": {
      "text/plain": [
       "'BlackowiczFergusWilhelmWyatt'"
      ]
     },
     "execution_count": 11,
     "metadata": {},
     "output_type": "execute_result"
    }
   ],
   "source": [
    "#Question 4\n",
    "from functools import reduce\n",
    "l=[\"Blackowicz\",\"Fergus\",\"Wilhelm\",\"Wyatt\"]\n",
    "combined = reduce(lambda a,b:a+b,l)\n",
    "combined"
   ]
  },
  {
   "cell_type": "code",
   "execution_count": 12,
   "metadata": {},
   "outputs": [
    {
     "data": {
      "text/plain": [
       "120"
      ]
     },
     "execution_count": 12,
     "metadata": {},
     "output_type": "execute_result"
    }
   ],
   "source": [
    "#Question 5\n",
    "from functools import reduce\n",
    "num=5\n",
    "l = []\n",
    "for i in range(1,num+1):\n",
    "    l.append(i)\n",
    "prod = reduce(lambda a,b:a*b, l)\n",
    "prod"
   ]
  },
  {
   "cell_type": "code",
   "execution_count": 14,
   "metadata": {},
   "outputs": [
    {
     "data": {
      "text/plain": [
       "2"
      ]
     },
     "execution_count": 14,
     "metadata": {},
     "output_type": "execute_result"
    }
   ],
   "source": [
    "#Question 6\n",
    "from functools import reduce\n",
    "def gcd(a, b):\n",
    "    while b != 0:\n",
    "        a, b = b, a % b\n",
    "    return a\n",
    "l=[34,78,24,90]\n",
    "res = reduce(gcd,l)\n",
    "res\n"
   ]
  },
  {
   "cell_type": "code",
   "execution_count": 24,
   "metadata": {},
   "outputs": [
    {
     "name": "stdout",
     "output_type": "stream",
     "text": [
      "10\n"
     ]
    }
   ],
   "source": [
    "#Question 7\n",
    "#def sum_of_digits():\n",
    "sum = 0\n",
    "num = 1234\n",
    "while(num!=0):\n",
    "    last_digit = num%10\n",
    "    sum+=last_digit\n",
    "    num = num//10\n",
    "\n",
    "print(sum)\n"
   ]
  },
  {
   "cell_type": "code",
   "execution_count": 32,
   "metadata": {},
   "outputs": [
    {
     "data": {
      "text/plain": [
       "10"
      ]
     },
     "execution_count": 32,
     "metadata": {},
     "output_type": "execute_result"
    }
   ],
   "source": [
    "#Question 8\n",
    "def helper(num):\n",
    "    num = str(num)\n",
    "    digits = []\n",
    "    for digit in str(num):\n",
    "        digits.append(int(digit))\n",
    "    return digits\n",
    "new_l = reduce(lambda a,b:a+b,helper(1234))\n",
    "new_l"
   ]
  },
  {
   "cell_type": "markdown",
   "metadata": {},
   "source": [
    "<h3>Filter</h3>"
   ]
  },
  {
   "cell_type": "code",
   "execution_count": 39,
   "metadata": {},
   "outputs": [
    {
     "name": "stdout",
     "output_type": "stream",
     "text": [
      "\n",
      "The filter() function in Python acts as a filter by taking an object (such as a list or string) and treating it as a parameter.\n",
      "Returns a new iterator containing only the elements in the first iterable whose function returns true.\n",
      "The filter() function in Python acts as a filter by taking an object (such as a list or string) and treating it as a parameter. Returns a new iterator containing only the elements in the first iterable whose function returns true\n",
      "numbers = [1, 2, 3, 4, 5]\n",
      "even_numbers = list(filter(lambda x: x % 2 == 0, numbers))\n",
      "print(even_numbers)  # Output: [2, 4]\n",
      "\n"
     ]
    }
   ],
   "source": [
    "#Question 1\n",
    "print(\"\"\"\n",
    "The filter() function in Python acts as a filter by taking an object (such as a list or string) and treating it as a parameter.\n",
    "Returns a new iterator containing only the elements in the first iterable whose function returns true.\\nThe filter() function in Python acts as a filter by taking an object (such as a list or string) and treating it as a parameter. Returns a new iterator containing only the elements in the first iterable whose function returns true\n",
    "numbers = [1, 2, 3, 4, 5]\n",
    "even_numbers = list(filter(lambda x: x % 2 == 0, numbers))\n",
    "print(even_numbers)  # Output: [2, 4]\n",
    "\"\"\")"
   ]
  },
  {
   "cell_type": "code",
   "execution_count": 41,
   "metadata": {},
   "outputs": [
    {
     "data": {
      "text/plain": [
       "[2, 4, 6, 8, 10]"
      ]
     },
     "execution_count": 41,
     "metadata": {},
     "output_type": "execute_result"
    }
   ],
   "source": [
    "#Question 2\n",
    "def is_even(n):\n",
    "    return n%2==0\n",
    "l=[1,2,3,4,5,6,7,8,9,10]\n",
    "new_l = list(filter(is_even,l))\n",
    "new_l"
   ]
  },
  {
   "cell_type": "code",
   "execution_count": 48,
   "metadata": {},
   "outputs": [
    {
     "data": {
      "text/plain": [
       "['Hoxton']"
      ]
     },
     "execution_count": 48,
     "metadata": {},
     "output_type": "execute_result"
    }
   ],
   "source": [
    "#Question 3\n",
    "l = [\"Wolf\",\"Chains\",\"Dallas\",\"Hoxton\",\"Bain\"]\n",
    "target_letter = \"H\"\n",
    "def starts_with(name, letter):\n",
    "    return name.startswith(letter)\n",
    "new_l= list(filter(lambda name:starts_with(name,target_letter),l))\n",
    "new_l"
   ]
  },
  {
   "cell_type": "code",
   "execution_count": 59,
   "metadata": {},
   "outputs": [
    {
     "data": {
      "text/plain": [
       "[2, 3, 5, 7]"
      ]
     },
     "execution_count": 59,
     "metadata": {},
     "output_type": "execute_result"
    }
   ],
   "source": [
    "#Question 4\n",
    "def is_prime(n):\n",
    "    for i in range(2,int(n**0.5)+1):\n",
    "        if(n%i==0):\n",
    "            return False\n",
    "    return True\n",
    "l = [2,3,4,5,6,7,8,9]\n",
    "updated_l = list(filter(is_prime,l))\n",
    "updated_l\n",
    "\n",
    "            "
   ]
  },
  {
   "cell_type": "code",
   "execution_count": 61,
   "metadata": {},
   "outputs": [
    {
     "data": {
      "text/plain": [
       "[1, 'Cake', 4.5, True]"
      ]
     },
     "execution_count": 61,
     "metadata": {},
     "output_type": "execute_result"
    }
   ],
   "source": [
    "#Question 5\n",
    "my_list = [1, \"Cake\", None, 4.5, None, True]\n",
    "\n",
    "filtered_list = list(filter(lambda x: x is not None, my_list))\n",
    "filtered_list"
   ]
  },
  {
   "cell_type": "code",
   "execution_count": 63,
   "metadata": {},
   "outputs": [
    {
     "data": {
      "text/plain": [
       "['Makarov', 'Savimbi']"
      ]
     },
     "execution_count": 63,
     "metadata": {},
     "output_type": "execute_result"
    }
   ],
   "source": [
    "#Question 6\n",
    "l = [\"Adler\",\"Price\",\"Soap\",\"Makarov\",\"Savimbi\"]\n",
    "max_length = 5\n",
    "updated_l = list(filter(lambda w: len(w)>max_length,l))\n",
    "updated_l"
   ]
  },
  {
   "cell_type": "code",
   "execution_count": 64,
   "metadata": {},
   "outputs": [
    {
     "data": {
      "text/plain": [
       "[9, 4, 5, 6]"
      ]
     },
     "execution_count": 64,
     "metadata": {},
     "output_type": "execute_result"
    }
   ],
   "source": [
    "#Question 7\n",
    "values = [9,4,3,2,5,1,6]\n",
    "threshold = 3\n",
    "filtered_values = list(filter(lambda x: x > threshold, values))\n",
    "filtered_values"
   ]
  },
  {
   "cell_type": "markdown",
   "metadata": {},
   "source": [
    "<h3>Recursion</h3>\n"
   ]
  },
  {
   "cell_type": "code",
   "execution_count": 66,
   "metadata": {},
   "outputs": [
    {
     "name": "stdout",
     "output_type": "stream",
     "text": [
      "Recursion in Python is when a function calls itself within its own code.\n",
      "Iteration, on the other hand, uses loops (like for or while) to repeatedly execute a block of code until a condition is met. \n"
     ]
    }
   ],
   "source": [
    "#Question 1\n",
    "print(\"Recursion in Python is when a function calls itself within its own code.\\nIteration, on the other hand, uses loops (like for or while) to repeatedly execute a block of code until a condition is met. \")"
   ]
  },
  {
   "cell_type": "code",
   "execution_count": 71,
   "metadata": {},
   "outputs": [
    {
     "data": {
      "text/plain": [
       "3628800"
      ]
     },
     "execution_count": 71,
     "metadata": {},
     "output_type": "execute_result"
    }
   ],
   "source": [
    "#Question 2\n",
    "def fact(n):\n",
    "    if(n==1 or n==0):\n",
    "        return 1\n",
    "    return n*fact(n-1)\n",
    "fact(10)\n"
   ]
  },
  {
   "cell_type": "code",
   "execution_count": 72,
   "metadata": {},
   "outputs": [
    {
     "data": {
      "text/plain": [
       "3"
      ]
     },
     "execution_count": 72,
     "metadata": {},
     "output_type": "execute_result"
    }
   ],
   "source": [
    "#Question 3\n",
    "def fibo(n):\n",
    "    if n <= 1:\n",
    "        return n\n",
    "    return fibo(n-1) + fibo(n-2)\n",
    "fibo(4)"
   ]
  },
  {
   "cell_type": "code",
   "execution_count": 76,
   "metadata": {},
   "outputs": [
    {
     "data": {
      "text/plain": [
       "45"
      ]
     },
     "execution_count": 76,
     "metadata": {},
     "output_type": "execute_result"
    }
   ],
   "source": [
    "#Question 4\n",
    "l = [1,2,3,4,5,6,7,8,9]\n",
    "def sum_of_list(n):\n",
    "    if not n:\n",
    "        return 0\n",
    "    else:\n",
    "        # Recursive case: return the first element plus the sum of the rest of the list\n",
    "        return n[0] + sum_of_list(n[1:])\n",
    "sum_of_list(l)\n",
    "\n"
   ]
  },
  {
   "cell_type": "code",
   "execution_count": 78,
   "metadata": {},
   "outputs": [
    {
     "name": "stdout",
     "output_type": "stream",
     "text": [
      "A base case is a condition that stops the recursion and provides a way to return a result from the function.\n"
     ]
    }
   ],
   "source": [
    "#Question 5\n",
    "print(\"A base case is a condition that stops the recursion and provides a way to return a result from the function.\")"
   ]
  },
  {
   "cell_type": "code",
   "execution_count": 79,
   "metadata": {},
   "outputs": [
    {
     "data": {
      "text/plain": [
       "4"
      ]
     },
     "execution_count": 79,
     "metadata": {},
     "output_type": "execute_result"
    }
   ],
   "source": [
    "#Question 6\n",
    "def gcd_recursion(a,b):\n",
    "    if(b==0):\n",
    "        return a\n",
    "    else:\n",
    "        return gcd_recursion(b,a%b)\n",
    "gcd_recursion(12,100)\n"
   ]
  },
  {
   "cell_type": "code",
   "execution_count": 83,
   "metadata": {},
   "outputs": [
    {
     "data": {
      "text/plain": [
       "'sllikswP'"
      ]
     },
     "execution_count": 83,
     "metadata": {},
     "output_type": "execute_result"
    }
   ],
   "source": [
    "#Question 7\n",
    "my_string=\"Pwskills\"\n",
    "def reverse_string(text):\n",
    "    if len(text) <= 1:  # Base case: Empty string or single character is already reversed\n",
    "        return text\n",
    "    else:\n",
    "        return reverse_string(text[1:]) + text[0]\n",
    "reverse_string(my_string)"
   ]
  },
  {
   "cell_type": "code",
   "execution_count": 84,
   "metadata": {},
   "outputs": [
    {
     "data": {
      "text/plain": [
       "32"
      ]
     },
     "execution_count": 84,
     "metadata": {},
     "output_type": "execute_result"
    }
   ],
   "source": [
    "#Question 8\n",
    "x= 2\n",
    "n=5\n",
    "def powerOfx(n):\n",
    "    if(n == 0):\n",
    "        return 1\n",
    "    else:\n",
    "        return x*powerOfx(n-1)\n",
    "powerOfx(5)"
   ]
  },
  {
   "cell_type": "code",
   "execution_count": 1,
   "metadata": {},
   "outputs": [
    {
     "name": "stdout",
     "output_type": "stream",
     "text": [
      "cat\n",
      "cta\n",
      "act\n",
      "atc\n",
      "tac\n",
      "tca\n"
     ]
    }
   ],
   "source": [
    "#Question 9\n",
    "def get_permutations(string, i=0):\n",
    "    if i==len(string):\n",
    "        print(\"\".join(string))\n",
    "    for j in range(i, len(string)):\n",
    "        words = [c for c in string]\n",
    "        words[i],words[j] = words[j],words[i]\n",
    "\n",
    "        get_permutations(words,i+1)\n",
    "get_permutations(\"cat\")"
   ]
  },
  {
   "cell_type": "code",
   "execution_count": 22,
   "metadata": {},
   "outputs": [
    {
     "data": {
      "text/plain": [
       "True"
      ]
     },
     "execution_count": 22,
     "metadata": {},
     "output_type": "execute_result"
    }
   ],
   "source": [
    "#Question 10\n",
    "l,i,j = list(\"gag\"),0,len(l)-1\n",
    "def is_p(i,j,l):\n",
    "    if(i>=j):\n",
    "        return True \n",
    "    if(l[i]!=l[j]):\n",
    "        return False\n",
    "    return is_p(i+1,j-1,l)\n",
    "is_p(i,j,l)"
   ]
  },
  {
   "cell_type": "code",
   "execution_count": 25,
   "metadata": {},
   "outputs": [
    {
     "name": "stdout",
     "output_type": "stream",
     "text": [
      "[[], [1], [2], [2, 1], [3], [3, 1], [3, 2], [3, 2, 1]]\n"
     ]
    }
   ],
   "source": [
    "#Question 11\n",
    "def combs(a):\n",
    "    if len(a) == 0:\n",
    "        return [[]]\n",
    "    cs = []\n",
    "    for c in combs(a[1:]):\n",
    "        cs += [c, c+[a[0]]]\n",
    "    return cs\n",
    "x = combs([1,2,3])\n",
    "print(x)"
   ]
  },
  {
   "cell_type": "markdown",
   "metadata": {},
   "source": [
    "<h3>Basics of Functions</h3>"
   ]
  },
  {
   "cell_type": "code",
   "execution_count": 26,
   "metadata": {},
   "outputs": [
    {
     "name": "stdout",
     "output_type": "stream",
     "text": [
      "In Python, a function is a block of reusable code that performs a specific task. \n",
      "Functions are used to organize your code, improve readability, and avoid repetition.\n",
      "By creating functions, you can break down complex problems into smaller, manageable steps.\n"
     ]
    }
   ],
   "source": [
    "#Question 1\n",
    "print(\"In Python, a function is a block of reusable code that performs a specific task. \\nFunctions are used to organize your code, improve readability, and avoid repetition.\\nBy creating functions, you can break down complex problems into smaller, manageable steps.\")"
   ]
  },
  {
   "cell_type": "code",
   "execution_count": 2,
   "metadata": {},
   "outputs": [
    {
     "name": "stdout",
     "output_type": "stream",
     "text": [
      "\n",
      "      In Python, you define a function using the def keyword followed by the function name and parentheses.\n",
      "      \n",
      "      def greet(name):\n",
      "            print(\"Hello,\", name + \"!\")\n",
      "\n",
      "greet(\"James\")\n",
      "      \n"
     ]
    }
   ],
   "source": [
    "#Question 2\n",
    "print(\"\"\"\n",
    "      In Python, you define a function using the def keyword followed by the function name and parentheses.\n",
    "      \n",
    "      def greet(name):\n",
    "            print(\"Hello,\", name + \"!\")\n",
    "\n",
    "greet(\"James\")\n",
    "      \"\"\")"
   ]
  },
  {
   "cell_type": "code",
   "execution_count": 5,
   "metadata": {},
   "outputs": [
    {
     "name": "stdout",
     "output_type": "stream",
     "text": [
      "A function definition creates a reusable block of code with a name, while a function call executes that predefined code with optional inputs. \n",
      "In essence, you define what the function does, then call it to use that functionality.\n"
     ]
    }
   ],
   "source": [
    "#Question 3\n",
    "print(\"\"\"A function definition creates a reusable block of code with a name, while a function call executes that predefined code with optional inputs. \n",
    "In essence, you define what the function does, then call it to use that functionality.\"\"\")"
   ]
  },
  {
   "cell_type": "code",
   "execution_count": 6,
   "metadata": {},
   "outputs": [
    {
     "data": {
      "text/plain": [
       "9"
      ]
     },
     "execution_count": 6,
     "metadata": {},
     "output_type": "execute_result"
    }
   ],
   "source": [
    "#Question 4\n",
    "def sum(a,b):\n",
    "    return a+b\n",
    "sum(4,5)"
   ]
  },
  {
   "cell_type": "code",
   "execution_count": 10,
   "metadata": {},
   "outputs": [
    {
     "name": "stdout",
     "output_type": "stream",
     "text": [
      "A function signature acts like a blueprint for a function, specifying its name and the data types of its arguments (inputs) and return value (output).\n"
     ]
    }
   ],
   "source": [
    "#Question 5\n",
    "print(\"A function signature acts like a blueprint for a function, specifying its name and the data types of its arguments (inputs) and return value (output).\")"
   ]
  },
  {
   "cell_type": "code",
   "execution_count": 11,
   "metadata": {},
   "outputs": [
    {
     "data": {
      "text/plain": [
       "9"
      ]
     },
     "execution_count": 11,
     "metadata": {},
     "output_type": "execute_result"
    }
   ],
   "source": [
    "#Question 6\n",
    "def product(a,b):\n",
    "    return a+b\n",
    "product(4,5)"
   ]
  },
  {
   "cell_type": "markdown",
   "metadata": {},
   "source": [
    "<h3>Function Parameters and Arguments:</h3>"
   ]
  },
  {
   "cell_type": "code",
   "execution_count": 12,
   "metadata": {},
   "outputs": [
    {
     "name": "stdout",
     "output_type": "stream",
     "text": [
      "\n",
      "      Formal parameters are placeholders defined within the function's parentheses when it's created. \n",
      "      Actual arguments are the specific values passed to the function during a call, which are matched to the formal parameters. \n"
     ]
    }
   ],
   "source": [
    "#Question 1\n",
    "print(\"\"\"\n",
    "      Formal parameters are placeholders defined within the function's parentheses when it's created. \n",
    "      Actual arguments are the specific values passed to the function during a call, which are matched to the formal parameters. \"\"\")"
   ]
  },
  {
   "cell_type": "code",
   "execution_count": 16,
   "metadata": {},
   "outputs": [
    {
     "name": "stdout",
     "output_type": "stream",
     "text": [
      "Physics wallah\n",
      "GATE Wallah\n"
     ]
    }
   ],
   "source": [
    "#Question 2\n",
    "def greet(word1=\"Physics\", word2=\"Wallah\"):\n",
    " print(word1 + \" \"+word2)\n",
    "greet()\n",
    "greet(\"GATE\", \"Wallah\")"
   ]
  },
  {
   "cell_type": "code",
   "execution_count": 21,
   "metadata": {},
   "outputs": [
    {
     "name": "stdout",
     "output_type": "stream",
     "text": [
      "\n",
      "Keyword arguments in Python allow you to specify arguments by their parameter name, rather than their position. \n",
      "This can make your code more readable\n",
      "def greet(name, age):\n",
      "    print(f\"Hello {name}, you are {age} years old!\")\n",
      "\n",
      "# Using keyword arguments\n",
      "greet(name=\"Simon Reily\", age=30)\n",
      "\n",
      "\n"
     ]
    }
   ],
   "source": [
    "#Question 3\n",
    "print(\"\"\"\n",
    "Keyword arguments in Python allow you to specify arguments by their parameter name, rather than their position. \n",
    "This can make your code more readable\n",
    "def greet(name, age):\n",
    "    print(f\"Hello {name}, you are {age} years old!\")\n",
    "\n",
    "# Using keyword arguments\n",
    "greet(name=\"Simon Reily\", age=30)\n",
    "\n",
    "\"\"\")"
   ]
  },
  {
   "cell_type": "code",
   "execution_count": 25,
   "metadata": {},
   "outputs": [
    {
     "data": {
      "text/plain": [
       "14"
      ]
     },
     "execution_count": 25,
     "metadata": {},
     "output_type": "execute_result"
    }
   ],
   "source": [
    "#Question 4\n",
    "def sum(*args):\n",
    "    sum = 0\n",
    "    for i in args:\n",
    "        sum+=i\n",
    "    return sum\n",
    "sum(2,3,4,5)"
   ]
  },
  {
   "cell_type": "code",
   "execution_count": 28,
   "metadata": {},
   "outputs": [
    {
     "name": "stdout",
     "output_type": "stream",
     "text": [
      "\n",
      "     \n",
      "The *args syntax in a function parameter list allows the function to accept an arbitrary number of positional arguments, which are then stored in a tuple.\n",
      "Similarly, the **kwargs syntax allows the function to accept an arbitrary number of keyword arguments, which are stored in a dictionary.  \n",
      "      \n"
     ]
    }
   ],
   "source": [
    "#Question 5\n",
    "print(\"\"\"\n",
    "The *args syntax in a function parameter list allows the function to accept an arbitrary number of positional arguments, which are then stored in a tuple.\n",
    "Similarly, the **kwargs syntax allows the function to accept an arbitrary number of keyword arguments, which are stored in a dictionary.  \n",
    "      \"\"\")"
   ]
  },
  {
   "cell_type": "markdown",
   "metadata": {},
   "source": [
    "<h3>Return Values and Scoping</h3>"
   ]
  },
  {
   "cell_type": "code",
   "execution_count": 34,
   "metadata": {},
   "outputs": [
    {
     "name": "stdout",
     "output_type": "stream",
     "text": [
      "The role of return in a function is the it gives back the functions result. \n"
     ]
    }
   ],
   "source": [
    "#Quesion 1\n",
    "print(\"The role of return in a function is the it gives back the functions result. \")"
   ]
  },
  {
   "cell_type": "code",
   "execution_count": 36,
   "metadata": {},
   "outputs": [
    {
     "name": "stdout",
     "output_type": "stream",
     "text": [
      "\n",
      "Variable scope simply refers to a region in a code where a variable can be accessible. \n",
      "Global variables are variables that is accesible from anywhere in the code whilst local variables can only be accessed in a certain region of a piece of code but not from anywhere\n",
      "      \n"
     ]
    }
   ],
   "source": [
    "#Question 2\n",
    "print(\"\"\"\n",
    "Variable scope simply refers to a region in a code where a variable can be accessible. \n",
    "Global variables are variables that is accesible from anywhere in the code whilst local variables can only be accessed in a certain region of a piece of code but not from anywhere\n",
    "      \"\"\")"
   ]
  },
  {
   "cell_type": "code",
   "execution_count": 41,
   "metadata": {},
   "outputs": [
    {
     "name": "stdout",
     "output_type": "stream",
     "text": [
      "1\n"
     ]
    }
   ],
   "source": [
    "#Question 3\n",
    "global_var = 0\n",
    "\n",
    "def increment_global():\n",
    "  global global_var\n",
    "  global_var += 1\n",
    "\n",
    "def print_global():\n",
    "  print(global_var)\n",
    "\n",
    "increment_global()\n",
    "print_global()  \n"
   ]
  },
  {
   "cell_type": "code",
   "execution_count": 49,
   "metadata": {},
   "outputs": [
    {
     "data": {
      "text/plain": [
       "120"
      ]
     },
     "execution_count": 49,
     "metadata": {},
     "output_type": "execute_result"
    }
   ],
   "source": [
    "#Question 4\n",
    "prod = 1\n",
    "def fact(n):\n",
    "    global prod \n",
    "    for i in range(1,n+1):\n",
    "        prod*=i\n",
    "    return prod\n",
    "fact(5)"
   ]
  },
  {
   "cell_type": "code",
   "execution_count": 54,
   "metadata": {},
   "outputs": [
    {
     "name": "stdout",
     "output_type": "stream",
     "text": [
      "By simply using the global keyword inside the function.\n",
      "Example:\n",
      "prod = 1\n",
      "def fact(n):\n",
      "    global prod \n",
      "    for i in range(1,n+1):\n",
      "        prod*=i\n",
      "    return prod\n",
      "fact(5)\n",
      "\n",
      "      \n"
     ]
    }
   ],
   "source": [
    "#Question 5\n",
    "print(\"\"\"By simply using the global keyword inside the function.\n",
    "Example:\n",
    "prod = 1\n",
    "def fact(n):\n",
    "    global prod \n",
    "    for i in range(1,n+1):\n",
    "        prod*=i\n",
    "    return prod\n",
    "fact(5)\n",
    "\n",
    "      \"\"\")"
   ]
  },
  {
   "cell_type": "markdown",
   "metadata": {},
   "source": [
    "<h3>Lambda Functions and Higher-Order Functions</h3>"
   ]
  },
  {
   "cell_type": "code",
   "execution_count": 30,
   "metadata": {},
   "outputs": [
    {
     "name": "stdout",
     "output_type": "stream",
     "text": [
      "Lambda functions in Python are small, anonymous functions defined using the lambda keyword.\n",
      "They are typically used when you need a simple function for a short period of time and don't want to define a full function using the def keyword.\n"
     ]
    }
   ],
   "source": [
    "#Question 1\n",
    "print(\"\"\"Lambda functions in Python are small, anonymous functions defined using the lambda keyword.\n",
    "They are typically used when you need a simple function for a short period of time and don't want to define a full function using the def keyword.\"\"\")"
   ]
  },
  {
   "cell_type": "code",
   "execution_count": 31,
   "metadata": {},
   "outputs": [
    {
     "name": "stdout",
     "output_type": "stream",
     "text": [
      "Sorted list of tuples based on the second element:\n",
      "[(4, 1), (3, 2, 1), (1, 5, 3), (2, 8, 6)]\n"
     ]
    }
   ],
   "source": [
    "#Question 2\n",
    "list_of_tuples = [(1, 5, 3), (3, 2, 1), (2, 8, 6), (4, 1)]\n",
    "\n",
    "sorted_list = sorted(list_of_tuples, key=lambda x: x[1])\n",
    "print(sorted_list)\n"
   ]
  },
  {
   "cell_type": "code",
   "execution_count": 32,
   "metadata": {},
   "outputs": [
    {
     "name": "stdout",
     "output_type": "stream",
     "text": [
      "In Python, higher-order functions are functions that can accept other functions as arguments, or return functions as results.\n"
     ]
    }
   ],
   "source": [
    "#Question 3\n",
    "print(\"In Python, higher-order functions are functions that can accept other functions as arguments, or return functions as results.\")"
   ]
  },
  {
   "cell_type": "code",
   "execution_count": 33,
   "metadata": {},
   "outputs": [
    {
     "data": {
      "text/plain": [
       "[1, 9, 25, 49]"
      ]
     },
     "execution_count": 33,
     "metadata": {},
     "output_type": "execute_result"
    }
   ],
   "source": [
    "#Question 4\n",
    "def square(num):\n",
    "    return num*num\n",
    "l = [1,3,5,7]\n",
    "updated_list = list(map(square,l))\n",
    "updated_list"
   ]
  },
  {
   "cell_type": "markdown",
   "metadata": {},
   "source": [
    "<h3>\n",
    "Built-in Functions\n",
    "</h3>"
   ]
  },
  {
   "cell_type": "code",
   "execution_count": 61,
   "metadata": {},
   "outputs": [
    {
     "name": "stdout",
     "output_type": "stream",
     "text": [
      "len()\n",
      "-Calculates the length of a sequence\n",
      "-Takes only a single argument(sequence)\n",
      "-Returns an integer representing the number of elements in the sequence\n",
      "max()\n",
      "-Finds the maximum value in a sequence of comparable elements\n",
      "-Can take one or more arguments, which can be numbers or elements in a sequence. You can optionally provide a key argument to specify a custom comparison function\n",
      "-Returns largest element in a sequence\n",
      "min()\n",
      "-Finds the minimum value in a sequence of comparable elements\n",
      "-Can take one or more arguments, which can be numbers or elements in a sequence. You can optionally provide a key argument to specify a custom comparison function\n",
      "-Returns smallest element in a sequence\n"
     ]
    }
   ],
   "source": [
    "#Question 1\n",
    "print(\"len()\")\n",
    "print(\"-Calculates the length of a sequence\")\n",
    "print(\"-Takes only a single argument(sequence)\")\n",
    "print(\"-Returns an integer representing the number of elements in the sequence\")\n",
    "print(\"max()\")\n",
    "print(\"-Finds the maximum value in a sequence of comparable elements\")\n",
    "print(\"-Can take one or more arguments, which can be numbers or elements in a sequence. You can optionally provide a key argument to specify a custom comparison function\")\n",
    "print(\"-Returns largest element in a sequence\")\n",
    "print(\"min()\")\n",
    "print(\"-Finds the minimum value in a sequence of comparable elements\")\n",
    "print(\"-Can take one or more arguments, which can be numbers or elements in a sequence. You can optionally provide a key argument to specify a custom comparison function\")\n",
    "print(\"-Returns smallest element in a sequence\")"
   ]
  },
  {
   "cell_type": "code",
   "execution_count": 67,
   "metadata": {},
   "outputs": [
    {
     "data": {
      "text/plain": [
       "['DEAG NILOX', 'VEGA', 'DR HAYDEN', 'DOOMGUY']"
      ]
     },
     "execution_count": 67,
     "metadata": {},
     "output_type": "execute_result"
    }
   ],
   "source": [
    "#Question 2\n",
    "def to_upper(character):\n",
    "    return character.upper()\n",
    "l=[\"deag nilox\",\"vega\",\"dr hayden\",\"doomguy\"]\n",
    "new_list = list(map(to_upper,l))\n",
    "new_list"
   ]
  },
  {
   "cell_type": "code",
   "execution_count": 66,
   "metadata": {},
   "outputs": [
    {
     "name": "stdout",
     "output_type": "stream",
     "text": [
      "\n",
      "The filter() function in Python takes an iterable (like a list) and a function as arguments. \n",
      "It iterates through the elements and applies the function to each one. The function should return True or False.\n",
      "The filter() function then returns a new iterator containing only the elements for which the function returned True. \n",
      "You would use filter() when you want to create a new collection containing only a subset of elements from an existing iterable based on a specific condition.    \n",
      "      \n"
     ]
    }
   ],
   "source": [
    "#Question 3\n",
    "print(\"\"\"\n",
    "The filter() function in Python takes an iterable (like a list) and a function as arguments. \n",
    "It iterates through the elements and applies the function to each one. The function should return True or False.\n",
    "The filter() function then returns a new iterator containing only the elements for which the function returned True. \n",
    "You would use filter() when you want to create a new collection containing only a subset of elements from an existing iterable based on a specific condition.    \n",
    "      \"\"\")"
   ]
  },
  {
   "cell_type": "code",
   "execution_count": 72,
   "metadata": {},
   "outputs": [
    {
     "data": {
      "text/plain": [
       "40320"
      ]
     },
     "execution_count": 72,
     "metadata": {},
     "output_type": "execute_result"
    }
   ],
   "source": [
    "#Question 4\n",
    "from functools import reduce\n",
    "def prod(a,b):\n",
    "    return a*b\n",
    "l = [1,2,3,4,5,6,7,8]\n",
    "new_l = reduce(prod,l)\n",
    "new_l"
   ]
  },
  {
   "cell_type": "markdown",
   "metadata": {},
   "source": [
    "<h3>Function Documentation and Best Practices</h3>"
   ]
  },
  {
   "cell_type": "code",
   "execution_count": 56,
   "metadata": {},
   "outputs": [
    {
     "name": "stdout",
     "output_type": "stream",
     "text": [
      "\n",
      "Docstrings in Python functions are in-line comments written as triple-quoted strings to explain the function's purpose, usage, and details for better code understanding.\n"
     ]
    }
   ],
   "source": [
    "#Question 1\n",
    "print(\"\"\"\n",
    "Docstrings in Python functions are in-line comments written as triple-quoted strings to explain the function's purpose, usage, and details for better code understanding.\"\"\")"
   ]
  },
  {
   "cell_type": "code",
   "execution_count": 58,
   "metadata": {},
   "outputs": [
    {
     "name": "stdout",
     "output_type": "stream",
     "text": [
      "Naming convetions:\n",
      "\n",
      "-Use lowercase with underscores   \n",
      "-Descriptive and meaningful\n",
      "-Consistency\n",
      "-Avoid single-letter names\n",
      "-Don't use reserved keywords\n",
      "-For class names use CamelCase\n",
      "-For constants use only capital letters\n",
      "      \n"
     ]
    }
   ],
   "source": [
    "#Question 2\n",
    "print(\"Naming convetions:\")\n",
    "print(\"\"\"\n",
    "-Use lowercase with underscores   \n",
    "-Descriptive and meaningful\n",
    "-Consistency\n",
    "-Avoid single-letter names\n",
    "-Don't use reserved keywords\n",
    "-For class names use CamelCase\n",
    "-For constants use only capital letters\n",
    "      \"\"\")"
   ]
  },
  {
   "cell_type": "code",
   "execution_count": 5,
   "metadata": {},
   "outputs": [
    {
     "data": {
      "text/plain": [
       "402387260077093773543702433923003985719374864210714632543799910429938512398629020592044208486969404800479988610197196058631666872994808558901323829669944590997424504087073759918823627727188732519779505950995276120874975462497043601418278094646496291056393887437886487337119181045825783647849977012476632889835955735432513185323958463075557409114262417474349347553428646576611667797396668820291207379143853719588249808126867838374559731746136085379534524221586593201928090878297308431392844403281231558611036976801357304216168747609675871348312025478589320767169132448426236131412508780208000261683151027341827977704784635868170164365024153691398281264810213092761244896359928705114964975419909342221566832572080821333186116811553615836546984046708975602900950537616475847728421889679646244945160765353408198901385442487984959953319101723355556602139450399736280750137837615307127761926849034352625200015888535147331611702103968175921510907788019393178114194545257223865541461062892187960223838971476088506276862967146674697562911234082439208160153780889893964518263243671616762179168909779911903754031274622289988005195444414282012187361745992642956581746628302955570299024324153181617210465832036786906117260158783520751516284225540265170483304226143974286933061690897968482590125458327168226458066526769958652682272807075781391858178889652208164348344825993266043367660176999612831860788386150279465955131156552036093988180612138558600301435694527224206344631797460594682573103790084024432438465657245014402821885252470935190620929023136493273497565513958720559654228749774011413346962715422845862377387538230483865688976461927383814900140767310446640259899490222221765904339901886018566526485061799702356193897017860040811889729918311021171229845901641921068884387121855646124960798722908519296819372388642614839657382291123125024186649353143970137428531926649875337218940694281434118520158014123344828015051399694290153483077644569099073152433278288269864602789864321139083506217095002597389863554277196742822248757586765752344220207573630569498825087968928162753848863396909959826280956121450994871701244516461260379029309120889086942028510640182154399457156805941872748998094254742173582401063677404595741785160829230135358081840096996372524230560855903700624271243416909004153690105933983835777939410970027753472000000000000000000000000000000000000000000000000000000000000000000000000000000000000000000000000000000000000000000000000000000000000000000000000000000000000000000000000000000000000000000000000000000000000000000000000000000000000000000000000000000000"
      ]
     },
     "execution_count": 5,
     "metadata": {},
     "output_type": "execute_result"
    }
   ],
   "source": [
    "def fact(n):\n",
    "    if(n==0 or n==1):\n",
    "        return 1\n",
    "    else:\n",
    "        return n*fact(n-1)\n",
    "fact(1000)"
   ]
  },
  {
   "cell_type": "code",
   "execution_count": null,
   "metadata": {},
   "outputs": [],
   "source": []
  }
 ],
 "metadata": {
  "kernelspec": {
   "display_name": "Python 3 (ipykernel)",
   "language": "python",
   "name": "python3"
  },
  "language_info": {
   "codemirror_mode": {
    "name": "ipython",
    "version": 3
   },
   "file_extension": ".py",
   "mimetype": "text/x-python",
   "name": "python",
   "nbconvert_exporter": "python",
   "pygments_lexer": "ipython3",
   "version": "3.12.2"
  }
 },
 "nbformat": 4,
 "nbformat_minor": 4
}
